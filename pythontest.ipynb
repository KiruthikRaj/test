{
 "cells": [
  {
   "cell_type": "markdown",
   "id": "a8b754b0",
   "metadata": {},
   "source": [
    "1.positive and negative"
   ]
  },
  {
   "cell_type": "code",
   "execution_count": null,
   "id": "cf532b62",
   "metadata": {},
   "outputs": [],
   "source": [
    "positive=['good','awesome','best','nice']\n",
    "negative=['worst','awful']\n",
    "comments=['He is a good boy','Food is the worst here','He is an awesome player','She is the best','This pizza tastes awful','These burger are really nice']\n",
    "Com1=comments[0]+\" - \"+positive[0]\n",
    "Com2=comments[1]+ \" - \"+negative[0]\n",
    "Com3=comments[2]+\" - \"+positive[1]\n",
    "Com4=comments[3]+\" - \"+positive[2]\n",
    "Com5=comments[4]+\" - \"+negative[1]\n",
    "Com6=comments[5]+\" - \"+positive[3]\n",
    "print(Com3)"
   ]
  },
  {
   "cell_type": "markdown",
   "id": "a356133b",
   "metadata": {},
   "source": [
    "2.square,cube and square root"
   ]
  },
  {
   "cell_type": "markdown",
   "id": "6be06357",
   "metadata": {},
   "source": [
    "import numpy as np\n",
    "import math\n",
    "dic={'Square':lambda x:x*x,'Cube':lambda x:x*x*x,'Squareroot':lambda x:np.sqrt(x)}\n",
    "number=int(input(\"enter\"))\n",
    "result=0\n",
    "for n in dic:\n",
    "    result+=dic[n](number)\n",
    "print(result)"
   ]
  },
  {
   "cell_type": "markdown",
   "id": "79f47b34",
   "metadata": {},
   "source": [
    "3.find fruits"
   ]
  },
  {
   "cell_type": "code",
   "execution_count": null,
   "id": "cb166870",
   "metadata": {},
   "outputs": [],
   "source": [
    "print(\"Hello World\")\n",
    "fruits=(('Lemon',\"sour\"),('DragonFruit','sweet'),('Grapes','soUr'),('Kiwi','Sour'),('Apples','sweet'),('Orange','sour'),('Blueberries','sweet'),('Limes','Sour'))\n",
    "s=(\"sour\",\"Sour\",\"soUr\")\n",
    "for i in fruits:\n",
    "    for n in i:\n",
    "        for j in s:\n",
    "            if(n==j):\n",
    "                print(i)"
   ]
  },
  {
   "cell_type": "markdown",
   "id": "63729a62",
   "metadata": {},
   "source": [
    "5.weight on moon"
   ]
  },
  {
   "cell_type": "code",
   "execution_count": null,
   "id": "87e67a5f",
   "metadata": {},
   "outputs": [],
   "source": [
    "w={'John':45,'Shelly':10.75,'Marry':35}\n",
    "for i,n in w.items():\n",
    "    wm=float((n*1.622)/9.8)\n",
    "    print(i,wm)"
   ]
  },
  {
   "cell_type": "markdown",
   "id": "64049e48",
   "metadata": {},
   "source": [
    "8.cumulative average "
   ]
  },
  {
   "cell_type": "code",
   "execution_count": 6,
   "id": "ed06cbd9",
   "metadata": {},
   "outputs": [
    {
     "name": "stdout",
     "output_type": "stream",
     "text": [
      "9\n",
      "7.0\n",
      "7.0\n",
      "7.5\n",
      "6.25\n"
     ]
    }
   ],
   "source": [
    "a=[9,5,7,8,5]\n",
    "from  itertools import accumulate\n",
    "result=accumulate(a,lambda x,y:(x+y)/2)\n",
    "for res in result :\n",
    "    print(res)"
   ]
  },
  {
   "cell_type": "markdown",
   "id": "c7989b80",
   "metadata": {},
   "source": [
    "9.convert to uppercase using lambda and map functions"
   ]
  },
  {
   "cell_type": "code",
   "execution_count": null,
   "id": "78c2d410",
   "metadata": {},
   "outputs": [],
   "source": [
    "Isbool=['True','FALse','tRue','False','faLse']\n",
    "list(map(lambda a:a.upper(),Isbool))"
   ]
  },
  {
   "cell_type": "markdown",
   "id": "e7f31bf0",
   "metadata": {},
   "source": [
    "    "
   ]
  },
  {
   "cell_type": "code",
   "execution_count": null,
   "id": "a94d7cef",
   "metadata": {},
   "outputs": [],
   "source": []
  },
  {
   "cell_type": "code",
   "execution_count": null,
   "id": "36f552f0",
   "metadata": {},
   "outputs": [],
   "source": [
    "\n",
    "        "
   ]
  },
  {
   "cell_type": "code",
   "execution_count": null,
   "id": "60c1e449",
   "metadata": {},
   "outputs": [],
   "source": []
  },
  {
   "cell_type": "code",
   "execution_count": null,
   "id": "c53580dd",
   "metadata": {},
   "outputs": [],
   "source": []
  }
 ],
 "metadata": {
  "kernelspec": {
   "display_name": "Python 3 (ipykernel)",
   "language": "python",
   "name": "python3"
  },
  "language_info": {
   "codemirror_mode": {
    "name": "ipython",
    "version": 3
   },
   "file_extension": ".py",
   "mimetype": "text/x-python",
   "name": "python",
   "nbconvert_exporter": "python",
   "pygments_lexer": "ipython3",
   "version": "3.9.7"
  }
 },
 "nbformat": 4,
 "nbformat_minor": 5
}
